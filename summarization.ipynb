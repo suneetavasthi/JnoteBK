{
 "cells": [
  {
   "cell_type": "code",
   "execution_count": 2,
   "id": "b2abda45-fcc1-40db-8714-4de1c3b46e5c",
   "metadata": {},
   "outputs": [],
   "source": [
    "import fitz  # PyMuPDF\n",
    "import requests\n",
    "import json"
   ]
  },
  {
   "cell_type": "code",
   "execution_count": 3,
   "id": "0e065d71-6a3f-49bf-bb1a-c48daca466b4",
   "metadata": {},
   "outputs": [],
   "source": [
    "\n",
    "# Step 1: Extract text from PDF\n",
    "def extract_text_from_pdf(pdf_path):\n",
    "    doc = fitz.open(pdf_path)\n",
    "    text = \"\"\n",
    "    for page in doc:\n",
    "        text += page.get_text()\n",
    "    return text"
   ]
  },
  {
   "cell_type": "code",
   "execution_count": 4,
   "id": "7c620b24-8ed7-47e9-b20e-c7c7609ed26f",
   "metadata": {},
   "outputs": [],
   "source": [
    "# Step 2: Send text to LM Studio's local server (Phi-3.1-mini)\n",
    "def summarize_text(text, max_chunk_length=3000):\n",
    "    # You can chunk the text if it's too long for one prompt\n",
    "    prompt = f\"Summarize the following document:\\n\\n{text[:max_chunk_length]}\"\n",
    "    \n",
    "    payload = {\n",
    "        \"model\": \"phi-3.1-mini-128k-instruct\",\n",
    "        \"messages\": [\n",
    "            {\"role\": \"system\", \"content\": \"You are a helpful assistant.\"},\n",
    "            {\"role\": \"user\", \"content\": prompt}\n",
    "        ],\n",
    "        \"temperature\": 0.3,\n",
    "        \"max_tokens\": 500\n",
    "    }\n",
    "\n",
    "    response = requests.post(\n",
    "        \"http://localhost:1234/v1/chat/completions\",\n",
    "        headers={\"Content-Type\": \"application/json\"},\n",
    "        data=json.dumps(payload)\n",
    "    )\n",
    "\n",
    "    if response.status_code == 200:\n",
    "        return response.json()['choices'][0]['message']['content']\n",
    "    else:\n",
    "        return f\"Error: {response.status_code}\\n{response.text}\"\n"
   ]
  },
  {
   "cell_type": "code",
   "execution_count": 5,
   "id": "eb6f54e1-c5d8-4618-9f27-2bbd8853e599",
   "metadata": {},
   "outputs": [
    {
     "name": "stdout",
     "output_type": "stream",
     "text": [
      "Extracting text...\n",
      "Sending to Phi-3.1 for summarization...\n",
      "\n",
      "Summary:\n",
      " The Integrated Annual Report for FY 2023-24 by Tata Consultancy Services (TCS) reflects on two decades of value creation since its IPO in 2004. As an IT services, consulting and business solutions organization with over half a million well-trained consultants globally, the company has consistently delivered innovative technological transformations to various industries such as banking, retail, manufacturing, healthcare, and utilities. TCS's unique Location Independent Agile™ delivery model is recognized for its excellence in software development.\n",
      "\n",
      "The report emphasizes how technology acts as an enabler for businesses seeking competitive advantage, strategy alignment, growth opportunities, improved customer experience, and employee engagement. It highlights the synergistic relationship between Cloud and AI/GenAI technologies that is driving significant shifts in industry approaches to innovation and efficiency. With over half of its workforce trained in these areas, TCS remains a trusted partner for clients' transformation journeys.\n",
      "\n",
      "The report also mentions recent annual themes such as \"Innovate, Adapt, Thrive\" (FY 2023), \"Building on Belief\" (FY 2022), and others that reflect TCS’s commitment to purpose-driven growth, resilience, adaptability, and business transformation. The report concludes with information about the Board of Directors, Management Team, and a letter from the Chairman.\n"
     ]
    }
   ],
   "source": [
    "\n",
    "# Step 3: Run the summarization pipeline\n",
    "if __name__ == \"__main__\":\n",
    "    pdf_path = \"annual-report-2023-2024.pdf\"  # Replace with your PDF file path\n",
    "    print(\"Extracting text...\")\n",
    "    extracted_text = extract_text_from_pdf(pdf_path)\n",
    "\n",
    "    print(\"Sending to Phi-3.1 for summarization...\")\n",
    "    summary = summarize_text(extracted_text)\n",
    "\n",
    "    print(\"\\nSummary:\\n\", summary)"
   ]
  },
  {
   "cell_type": "code",
   "execution_count": null,
   "id": "78f6b2b5-4806-42c4-90fd-e5146c5ee20c",
   "metadata": {},
   "outputs": [],
   "source": []
  }
 ],
 "metadata": {
  "kernelspec": {
   "display_name": "Python 3 (ipykernel)",
   "language": "python",
   "name": "python3"
  },
  "language_info": {
   "codemirror_mode": {
    "name": "ipython",
    "version": 3
   },
   "file_extension": ".py",
   "mimetype": "text/x-python",
   "name": "python",
   "nbconvert_exporter": "python",
   "pygments_lexer": "ipython3",
   "version": "3.11.6"
  }
 },
 "nbformat": 4,
 "nbformat_minor": 5
}
