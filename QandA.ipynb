{
 "cells": [
  {
   "cell_type": "code",
   "execution_count": 1,
   "id": "50103acd-fdb9-463e-83fb-73770b70d853",
   "metadata": {},
   "outputs": [],
   "source": [
    "# Step 1: Install required packages\n",
    "#!pip install PyMuPDF requests\n",
    "\n",
    "# Step 2: Import required libraries\n",
    "import fitz  # PyMuPDF\n",
    "import requests\n",
    "import json\n"
   ]
  },
  {
   "cell_type": "code",
   "execution_count": 2,
   "id": "8cd5d5e3-ff93-450f-9884-2baa478bdaf4",
   "metadata": {},
   "outputs": [],
   "source": [
    "\n",
    "# Step 3: Read and extract text from a PDF\n",
    "def extract_text_from_pdf(pdf_path):\n",
    "    doc = fitz.open(pdf_path)\n",
    "    text = \"\"\n",
    "    for page in doc:\n",
    "        text += page.get_text()\n",
    "    return text\n"
   ]
  },
  {
   "cell_type": "code",
   "execution_count": 3,
   "id": "bdec7f3d-c498-4190-b93c-44c7076dde2a",
   "metadata": {},
   "outputs": [],
   "source": [
    "\n",
    "# Step 4: Define function to query LM Studio with Phi-3.1-mini-128k-instruct\n",
    "def query_lm_studio(prompt, context, system_prompt=None):\n",
    "    endpoint = \"http://localhost:1234/v1/chat/completions\"  # LM Studio endpoint\n",
    "\n",
    "    headers = {\n",
    "        \"Content-Type\": \"application/json\"\n",
    "    }\n",
    "\n",
    "    messages = []\n",
    "    if system_prompt:\n",
    "        messages.append({\"role\": \"system\", \"content\": system_prompt})\n",
    "    messages.append({\"role\": \"user\", \"content\": f\"Context: {context}\\n\\nQuestion: {prompt}\"})\n",
    "\n",
    "    data = {\n",
    "        \"model\": \"phi-3.1-mini-128k-instruct\",\n",
    "        \"messages\": messages,\n",
    "        \"temperature\": 0.7\n",
    "    }\n",
    "\n",
    "    response = requests.post(endpoint, headers=headers, data=json.dumps(data))\n",
    "    return response.json()[\"choices\"][0][\"message\"][\"content\"]\n"
   ]
  },
  {
   "cell_type": "code",
   "execution_count": 4,
   "id": "bb1ae527-8afc-44ea-a8c9-7049d5098069",
   "metadata": {},
   "outputs": [],
   "source": [
    "\n",
    "# Step 5: Load your PDF\n",
    "pdf_path = \"annual-report-2023-2024.pdf\"  # Replace with your file path\n",
    "pdf_text = extract_text_from_pdf(pdf_path)\n"
   ]
  },
  {
   "cell_type": "code",
   "execution_count": 8,
   "id": "19a62ff9-6f8b-40e4-9960-d37a73036f6a",
   "metadata": {},
   "outputs": [
    {
     "name": "stdin",
     "output_type": "stream",
     "text": [
      "Please state your Question What are sustainable goals of TCS\n"
     ]
    },
    {
     "name": "stdout",
     "output_type": "stream",
     "text": [
      "Q: What are sustainable goals of TCS\n",
      "A: Tata Consultancy Services (TCS) has established itself as a leader in creating value for its stakeholders, including shareholders like you, through various initiatives and strategic focuses. While the Integrated Annual Report 2023-24 does not explicitly list \"sustainable goals,\" TCS' commitment to sustainability is evident from multiple actions outlined throughout its report:\n",
      "\n",
      "1. Climate Action: The company has been recognized for climate change efforts and aims to contribute towards the MSCI Global Sustainability Index as well as FTSE4Good Emerging Index, reflecting their dedication to environmental sustainability goals. \n",
      "\n",
      "2. Community Engagement: TCS works with communities across the world in various capacities—whether through technology partnerships or social responsibility initiatives—demonstrating its commitment towards societal well-being and community development.\n",
      "\n",
      "3. Innovation & Technology for a Better World: With an emphasis on AI/ML training, TCS is positioned to be a partner in clients' transformation journeys through technology innovations that enhance customer experience, improve competitive advantage, drive strategy growth, and support sustainability goals across various industries.\n",
      "\n",
      "4. Sustainable Business Practices: The company recognizes the importance of responsible business conduct with an emphasis on resilience, adaptability, purpose-driven operations, as outlined in their thematic report sections for FY 2023 and beyond. This includes continuous improvement in operational efficiency which contributes to a lower environmental impact through reduced resource consumption.\n",
      "\n",
      "5. Ethical Leadership: TCS' corporate governance practices reflect an ethical approach towards business, with independent auditors reporting on financial statements ensuring transparency for all stakeholders including shareholders like you. This level of accountability contributes to sustainable development by fostering trust and long-term investment in the company's growth trajectory.\n",
      "\n",
      "6. Talent & Human Capital Development: Investing in human capital through training, retention strategies, and leadership programs ensures a motivated workforce that can contribute positively towards TCS’ sustainability goals both internally (within the organization) and externally as it serves clients across various industries with its innovative solutions.\n",
      "\n",
      "In summary, while not explicitly stated in one document, these initiatives demonstrate TCS's broader commitment to achieving sustainable objectives which align closely with global standards for environmental protection, social responsibility, and good governance—a reflection of a company that is mindful about its impact on the planet and society.\n"
     ]
    }
   ],
   "source": [
    "# Step 6: Ask a question\n",
    "question = input(\"Please state your Question:\")\n",
    "answer = query_lm_studio(prompt=question, context=pdf_text[:10000])  # You can chunk if text is too large\n",
    "\n",
    "print(\"Q:\", question)\n",
    "print(\"A:\", answer)"
   ]
  },
  {
   "cell_type": "code",
   "execution_count": null,
   "id": "d758c25c-9101-4377-b337-6cd7689292c5",
   "metadata": {},
   "outputs": [],
   "source": []
  }
 ],
 "metadata": {
  "kernelspec": {
   "display_name": "Python 3 (ipykernel)",
   "language": "python",
   "name": "python3"
  },
  "language_info": {
   "codemirror_mode": {
    "name": "ipython",
    "version": 3
   },
   "file_extension": ".py",
   "mimetype": "text/x-python",
   "name": "python",
   "nbconvert_exporter": "python",
   "pygments_lexer": "ipython3",
   "version": "3.11.6"
  }
 },
 "nbformat": 4,
 "nbformat_minor": 5
}
